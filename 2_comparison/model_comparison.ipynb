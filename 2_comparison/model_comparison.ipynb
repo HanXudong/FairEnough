{
 "cells": [
  {
   "cell_type": "code",
   "execution_count": 1,
   "metadata": {},
   "outputs": [],
   "source": [
    "import fairlib\n",
    "import seaborn as sns\n",
    "import matplotlib.pyplot as plt\n",
    "import pandas as pd\n",
    "\n",
    "plt.rcParams['figure.dpi'] = 140"
   ]
  },
  {
   "cell_type": "code",
   "execution_count": 2,
   "metadata": {},
   "outputs": [],
   "source": [
    "bios_both_results = fairlib.analysis.retrive_results(\"Bios_both\", log_dir=r\"..\\Preprocessed_results\")"
   ]
  },
  {
   "cell_type": "code",
   "execution_count": 3,
   "metadata": {},
   "outputs": [],
   "source": [
    "bios_both_results[\"AAdv\"] = bios_both_results[\"BTGAdv\"]\n",
    "\n",
    "bios_both_all_df = fairlib.analysis.final_results_df(\n",
    "    model_order=[\"INLP\", \"Adv\", \"DAdv\", \"AAdv\"],\n",
    "    results_dict = bios_both_results,\n",
    "    pareto = True,\n",
    "    pareto_selection = \"test\",\n",
    "    selection_criterion = \"DTO\",\n",
    "    return_dev = True,\n",
    "    )"
   ]
  },
  {
   "cell_type": "code",
   "execution_count": 4,
   "metadata": {},
   "outputs": [
    {
     "data": {
      "text/plain": [
       "Index(['Models', 'test_performance mean', 'test_performance std',\n",
       "       'test_fairness mean', 'test_fairness std', 'dev_performance mean',\n",
       "       'dev_performance std', 'dev_fairness mean', 'dev_fairness std', 'DTO',\n",
       "       'is_pareto'],\n",
       "      dtype='object')"
      ]
     },
     "execution_count": 4,
     "metadata": {},
     "output_type": "execute_result"
    }
   ],
   "source": [
    "bios_both_all_df.keys()"
   ]
  },
  {
   "cell_type": "code",
   "execution_count": 5,
   "metadata": {},
   "outputs": [
    {
     "data": {
      "text/plain": [
       "0    0.496844\n",
       "1    0.413357\n",
       "2    0.406590\n",
       "3    0.394689\n",
       "dtype: float64"
      ]
     },
     "execution_count": 5,
     "metadata": {},
     "output_type": "execute_result"
    }
   ],
   "source": [
    "((1-bios_both_all_df[\"dev_performance mean\"])**2 + (1-bios_both_all_df[\"dev_fairness mean\"])**2)**0.5"
   ]
  },
  {
   "cell_type": "code",
   "execution_count": 6,
   "metadata": {},
   "outputs": [
    {
     "data": {
      "text/plain": [
       "Index(['Models', 'test_performance mean', 'test_performance std',\n",
       "       'test_fairness mean', 'test_fairness std', 'dev_performance mean',\n",
       "       'dev_performance std', 'dev_fairness mean', 'dev_fairness std', 'DTO',\n",
       "       'is_pareto'],\n",
       "      dtype='object')"
      ]
     },
     "execution_count": 6,
     "metadata": {},
     "output_type": "execute_result"
    }
   ],
   "source": [
    "bios_both_all_df.keys()"
   ]
  },
  {
   "cell_type": "code",
   "execution_count": 7,
   "metadata": {},
   "outputs": [],
   "source": [
    "def exam_selection_criteria(\n",
    "    selection_criterion = \"DTO\",\n",
    "    Fairness_threshold = 0.0,\n",
    "    Performance_threshold = 0.0\n",
    "):\n",
    "\n",
    "    _bios_both_df = fairlib.analysis.final_results_df(\n",
    "        model_order=[\"INLP\", \"Adv\", \"DAdv\", \"AAdv\"],\n",
    "        results_dict = bios_both_results,\n",
    "        pareto = True,\n",
    "        pareto_selection = \"test\",\n",
    "        selection_criterion = selection_criterion,\n",
    "        Fairness_threshold = Fairness_threshold,\n",
    "        Performance_threshold = Performance_threshold,\n",
    "        return_dev = True,\n",
    "        )\n",
    "    _bios_both_df[\"Dev_DTO\"] = ((1-_bios_both_df[\"dev_performance mean\"])**2 + (1-_bios_both_df[\"dev_fairness mean\"])**2)**0.5\n",
    "    _bios_both_df = _bios_both_df*100\n",
    "    _bios_both_df[\"Models\"] = [\"INLP\", \"Adv\", \"DAdv\", \"AAdv\"]\n",
    "    _bios_both_df = _bios_both_df.drop(columns=['is_pareto']).fillna(0)\n",
    "    print(_bios_both_df.to_latex(index=False))\n",
    "    return _bios_both_df"
   ]
  },
  {
   "cell_type": "code",
   "execution_count": 8,
   "metadata": {},
   "outputs": [
    {
     "name": "stdout",
     "output_type": "stream",
     "text": [
      "\\begin{tabular}{lrrrrrrrrrr}\n",
      "\\toprule\n",
      "Models &  test\\_performance mean &  test\\_performance std &  test\\_fairness mean &  test\\_fairness std &  dev\\_performance mean &  dev\\_performance std &  dev\\_fairness mean &  dev\\_fairness std &       DTO &   Dev\\_DTO \\\\\n",
      "\\midrule\n",
      "  INLP &              81.354350 &              0.000000 &           62.442580 &           0.000000 &             80.339540 &             0.000000 &          54.371000 &          0.000000 & 41.931134 & 49.684398 \\\\\n",
      "   Adv &              64.601630 &              4.508314 &           83.683840 &           1.123115 &             63.862724 &             4.375978 &          79.931703 &          3.020925 & 38.977707 & 41.335690 \\\\\n",
      "  DAdv &              68.089476 &              5.485370 &           79.471282 &           6.769568 &             67.579409 &             5.458177 &          75.463176 &          6.670896 & 37.943508 & 40.658953 \\\\\n",
      "  AAdv &              69.734659 &              4.898247 &           78.820603 &           7.722887 &             69.295363 &             4.743128 &          75.200484 &          5.438290 & 36.939920 & 39.468857 \\\\\n",
      "\\bottomrule\n",
      "\\end{tabular}\n",
      "\n"
     ]
    }
   ],
   "source": [
    "_ = exam_selection_criteria(selection_criterion = \"DTO\")"
   ]
  },
  {
   "cell_type": "code",
   "execution_count": 9,
   "metadata": {},
   "outputs": [
    {
     "name": "stdout",
     "output_type": "stream",
     "text": [
      "\\begin{tabular}{lrrrrrrrrrr}\n",
      "\\toprule\n",
      "Models &  test\\_performance mean &  test\\_performance std &  test\\_fairness mean &  test\\_fairness std &  dev\\_performance mean &  dev\\_performance std &  dev\\_fairness mean &  dev\\_fairness std &       DTO &   Dev\\_DTO \\\\\n",
      "\\midrule\n",
      "  INLP &              81.354350 &              0.000000 &           62.442580 &           0.000000 &             80.339540 &             0.000000 &          54.371000 &          0.000000 & 41.931134 & 49.684398 \\\\\n",
      "   Adv &              81.470683 &              0.209556 &           59.474805 &           1.739385 &             80.730194 &             0.220989 &          55.199163 &          1.304193 & 44.560375 & 48.769257 \\\\\n",
      "  DAdv &              81.436214 &              0.271583 &           59.287611 &           1.705075 &             80.627966 &             0.251841 &          54.852240 &          1.709069 & 44.744975 & 49.128362 \\\\\n",
      "  AAdv &              81.256687 &              0.268492 &           58.635181 &           1.968618 &             80.556773 &             0.287144 &          54.406716 &          1.578163 & 45.413214 & 49.565983 \\\\\n",
      "\\bottomrule\n",
      "\\end{tabular}\n",
      "\n"
     ]
    }
   ],
   "source": [
    "_ = exam_selection_criteria(selection_criterion = \"performance\")"
   ]
  },
  {
   "cell_type": "code",
   "execution_count": 10,
   "metadata": {},
   "outputs": [
    {
     "name": "stdout",
     "output_type": "stream",
     "text": [
      "\\begin{tabular}{lrrrrrrrrrr}\n",
      "\\toprule\n",
      "Models &  test\\_performance mean &  test\\_performance std &  test\\_fairness mean &  test\\_fairness std &  dev\\_performance mean &  dev\\_performance std &  dev\\_fairness mean &  dev\\_fairness std &       DTO &   Dev\\_DTO \\\\\n",
      "\\midrule\n",
      "  INLP &              53.753905 &              0.000000 &           74.979811 &           0.000000 &             53.833516 &             0.000000 &          74.423048 &          0.000000 & 52.580521 & 52.778071 \\\\\n",
      "   Adv &              71.531363 &              5.669668 &           67.315544 &           5.354399 &             71.254107 &             5.824511 &          66.183372 &          4.202679 & 43.344399 & 44.383451 \\\\\n",
      "  DAdv &              73.435065 &              3.763752 &           68.755527 &           4.905491 &             72.964586 &             3.681593 &          65.952841 &          3.685704 & 41.011131 & 43.475541 \\\\\n",
      "  AAdv &              70.357258 &              5.722893 &           73.948014 &           8.864983 &             69.985396 &             5.786656 &          67.419084 &          6.593549 & 39.463883 & 44.298900 \\\\\n",
      "\\bottomrule\n",
      "\\end{tabular}\n",
      "\n"
     ]
    }
   ],
   "source": [
    "_ = exam_selection_criteria(selection_criterion = \"performance\", Fairness_threshold=0.65)"
   ]
  },
  {
   "cell_type": "code",
   "execution_count": 11,
   "metadata": {},
   "outputs": [
    {
     "name": "stdout",
     "output_type": "stream",
     "text": [
      "\\begin{tabular}{lrrrrrrrrrr}\n",
      "\\toprule\n",
      "Models &  test\\_performance mean &  test\\_performance std &  test\\_fairness mean &  test\\_fairness std &  dev\\_performance mean &  dev\\_performance std &  dev\\_fairness mean &  dev\\_fairness std &       DTO &   Dev\\_DTO \\\\\n",
      "\\midrule\n",
      "  INLP &              53.753905 &              0.000000 &           74.979811 &           0.000000 &             53.833516 &             0.000000 &          74.423048 &          0.000000 & 52.580521 & 52.778071 \\\\\n",
      "   Adv &              68.815482 &              4.795215 &           72.103062 &           5.577901 &             68.152610 &             4.833248 &          70.271687 &          6.521562 & 41.841526 & 43.566373 \\\\\n",
      "  DAdv &              69.660694 &              2.900897 &           73.240677 &           6.832685 &             69.207740 &             2.725972 &          70.604944 &          3.952069 & 40.454108 & 42.570325 \\\\\n",
      "  AAdv &              70.006104 &              3.340678 &           75.032929 &           3.874593 &             69.448704 &             3.357603 &          70.820000 &          2.139696 & 39.025484 & 42.247533 \\\\\n",
      "\\bottomrule\n",
      "\\end{tabular}\n",
      "\n"
     ]
    }
   ],
   "source": [
    "_ = exam_selection_criteria(selection_criterion = \"performance\", Fairness_threshold=0.70)"
   ]
  },
  {
   "cell_type": "code",
   "execution_count": 12,
   "metadata": {},
   "outputs": [
    {
     "name": "stdout",
     "output_type": "stream",
     "text": [
      "\\begin{tabular}{lrrrrrrrrrr}\n",
      "\\toprule\n",
      "Models &  test\\_performance mean &  test\\_performance std &  test\\_fairness mean &  test\\_fairness std &  dev\\_performance mean &  dev\\_performance std &  dev\\_fairness mean &  dev\\_fairness std &       DTO &   Dev\\_DTO \\\\\n",
      "\\midrule\n",
      "  INLP &              29.812215 &              0.000000 &           99.999689 &           0.000000 &             29.864914 &             0.000000 &          86.636821 &          0.000000 & 70.187785 & 71.396812 \\\\\n",
      "   Adv &              51.601020 &             16.540178 &           90.219145 &           9.262941 &             51.219423 &            16.237612 &          80.958107 &          6.000118 & 49.377388 & 52.365431 \\\\\n",
      "  DAdv &              61.776597 &              3.693665 &           88.646096 &           3.685025 &             61.151880 &             3.520992 &          82.157103 &          2.510622 & 39.874048 & 42.749800 \\\\\n",
      "  AAdv &              37.946932 &              9.084083 &           99.038855 &           1.181159 &             37.597663 &             8.771552 &          86.482231 &          0.174662 & 62.060511 & 63.849680 \\\\\n",
      "\\bottomrule\n",
      "\\end{tabular}\n",
      "\n"
     ]
    }
   ],
   "source": [
    "_ = exam_selection_criteria(selection_criterion = \"fairness\", Performance_threshold=0.0)"
   ]
  },
  {
   "cell_type": "code",
   "execution_count": 13,
   "metadata": {},
   "outputs": [
    {
     "name": "stdout",
     "output_type": "stream",
     "text": [
      "\\begin{tabular}{lrrrrrrrrrr}\n",
      "\\toprule\n",
      "Models &  test\\_performance mean &  test\\_performance std &  test\\_fairness mean &  test\\_fairness std &  dev\\_performance mean &  dev\\_performance std &  dev\\_fairness mean &  dev\\_fairness std &       DTO &   Dev\\_DTO \\\\\n",
      "\\midrule\n",
      "  INLP &              81.354350 &              0.000000 &           62.442580 &           0.000000 &             80.339540 &             0.000000 &          54.371000 &          0.000000 & 41.931134 & 49.684398 \\\\\n",
      "   Adv &              79.061434 &              1.052957 &           64.488537 &           1.304952 &             78.504929 &             0.873399 &          58.732196 &          2.424519 & 41.224841 & 46.530309 \\\\\n",
      "  DAdv &              80.443072 &              0.522515 &           64.657701 &           1.406390 &             79.879518 &             0.545801 &          57.437202 &          1.137515 & 40.392468 & 47.078929 \\\\\n",
      "  AAdv &              79.908082 &              2.177868 &           61.115353 &           2.754305 &             79.136546 &             2.201642 &          58.067513 &          2.817180 & 43.768721 & 46.836067 \\\\\n",
      "\\bottomrule\n",
      "\\end{tabular}\n",
      "\n"
     ]
    }
   ],
   "source": [
    "_ = exam_selection_criteria(selection_criterion = \"fairness\", Performance_threshold=(0.78))"
   ]
  },
  {
   "cell_type": "code",
   "execution_count": 14,
   "metadata": {},
   "outputs": [
    {
     "name": "stdout",
     "output_type": "stream",
     "text": [
      "\\begin{tabular}{lrrrrrrrrrr}\n",
      "\\toprule\n",
      "Models &  test\\_performance mean &  test\\_performance std &  test\\_fairness mean &  test\\_fairness std &  dev\\_performance mean &  dev\\_performance std &  dev\\_fairness mean &  dev\\_fairness std &       DTO &   Dev\\_DTO \\\\\n",
      "\\midrule\n",
      "  INLP &              81.354350 &              0.000000 &           62.442580 &           0.000000 &             80.339540 &             0.000000 &          54.371000 &          0.000000 & 41.931134 & 49.684398 \\\\\n",
      "   Adv &              79.061434 &              1.052957 &           64.488537 &           1.304952 &             78.504929 &             0.873399 &          58.732196 &          2.424519 & 41.224841 & 46.530309 \\\\\n",
      "  DAdv &              74.207748 &              3.152859 &           66.965168 &           2.367657 &             73.705732 &             3.284853 &          64.236675 &          1.143709 & 41.911101 & 44.389232 \\\\\n",
      "  AAdv &              74.859790 &              5.121396 &           65.366052 &           6.868328 &             74.267981 &             5.307684 &          64.246350 &          5.409667 & 42.796501 & 44.050656 \\\\\n",
      "\\bottomrule\n",
      "\\end{tabular}\n",
      "\n"
     ]
    }
   ],
   "source": [
    "_ = exam_selection_criteria(selection_criterion = \"fairness\", Performance_threshold=(0.73))"
   ]
  },
  {
   "cell_type": "code",
   "execution_count": 15,
   "metadata": {},
   "outputs": [],
   "source": [
    "from fairlib.src.analysis.utils import auc_performance_fairness_tradeoff"
   ]
  },
  {
   "cell_type": "code",
   "execution_count": 16,
   "metadata": {},
   "outputs": [],
   "source": [
    "bios_both_all_df = fairlib.analysis.final_results_df(\n",
    "    model_order=[\"INLP\", \"Adv\", \"DAdv\", \"AAdv\"],\n",
    "    results_dict = bios_both_results,\n",
    "    pareto = True,\n",
    "    pareto_selection = \"test\",\n",
    "    selection_criterion = None,\n",
    "    return_dev = True,\n",
    "    )"
   ]
  },
  {
   "cell_type": "code",
   "execution_count": 17,
   "metadata": {},
   "outputs": [
    {
     "name": "stdout",
     "output_type": "stream",
     "text": [
      "INLP 0.3982569166553376\n",
      "Adv 0.43572503606466517\n",
      "DAdv 0.44499411533585953\n",
      "AAdv 0.4400661978816351\n"
     ]
    }
   ],
   "source": [
    "for _method in  [\"INLP\", \"Adv\", \"DAdv\", \"AAdv\"]:\n",
    "    auc_score = auc_performance_fairness_tradeoff(\n",
    "        bios_both_all_df[bios_both_all_df[\"Models\"]==_method],\n",
    "        random_performance = 0.3,\n",
    "        )\n",
    "    print(_method, auc_score[0])"
   ]
  },
  {
   "cell_type": "code",
   "execution_count": 18,
   "metadata": {},
   "outputs": [],
   "source": [
    "bios_both_plot_df = fairlib.analysis.final_results_df(\n",
    "    model_order=[\"INLP\", \"Adv\", \"DAdv\", \"AAdv\"],\n",
    "    results_dict = bios_both_results,\n",
    "    pareto = True,\n",
    "    pareto_selection = \"test\",\n",
    "    selection_criterion = None,\n",
    "    return_dev = True,\n",
    "    )"
   ]
  },
  {
   "cell_type": "code",
   "execution_count": 19,
   "metadata": {},
   "outputs": [
    {
     "data": {
      "image/png": "[encoded data removed]",
      "text/plain": [
       "<Figure size 896x672 with 1 Axes>"
      ]
     },
     "metadata": {},
     "output_type": "display_data"
    }
   ],
   "source": [
    "_pareto_df = bios_both_plot_df[bios_both_plot_df[\"Models\"]==\"INLP\"]\n",
    "\n",
    "image = sns.lineplot(\n",
    "            data=_pareto_df,\n",
    "            x=\"test_performance mean\",\n",
    "            y=\"test_fairness mean\",\n",
    "            hue=\"Models\",\n",
    "            markers=True,\n",
    "            style=\"Models\",\n",
    "            legend=None\n",
    "        )\n",
    "\n",
    "_xlim = image.axes.get_xlim()\n",
    "_ylim = image.axes.get_ylim()\n",
    "\n",
    "_tmp_df = fairlib.src.analysis.utils.auc_performance_fairness_tradeoff(\n",
    "    _pareto_df,\n",
    "    random_performance = 0.3,\n",
    "    # performance_threshold = 0.70, \n",
    "    # interpolation = \"constant\",\n",
    "    interpolation = \"linear\",\n",
    "    )[1]\n",
    "\n",
    "plt.fill_between(_tmp_df[\"test_performance mean\"], _tmp_df[\"test_fairness mean\"], 1, facecolor='green', alpha=0.25)\n",
    "plt.fill_between(_tmp_df[\"test_performance mean\"], _tmp_df[\"test_fairness mean\"], 0, facecolor='yellow', alpha=0.25)\n",
    "\n",
    "max_fairness = max(_pareto_df[\"test_fairness mean\"])\n",
    "max_performance = max(_pareto_df[\"test_performance mean\"])\n",
    "\n",
    "plt.plot(max_performance, max_fairness, \"go\")\n",
    "plt.text(max_performance, max_fairness, \"Utopia\", c=\"g\",horizontalalignment='right',verticalalignment='bottom', fontsize=12)\n",
    "\n",
    "plt.xlim(_xlim)\n",
    "plt.ylim((0,_ylim[1]))\n",
    "\n",
    "plt.xlabel(\"Performance\")\n",
    "plt.ylabel(\"Fairness\")\n",
    "\n",
    "plt.savefig('Bios_both_INLP_AUC.pdf', format=\"pdf\", dpi=960, bbox_inches='tight')"
   ]
  },
  {
   "cell_type": "code",
   "execution_count": 20,
   "metadata": {},
   "outputs": [
    {
     "data": {
      "image/png": "[encoded data removed]",
      "text/plain": [
       "<Figure size 896x672 with 1 Axes>"
      ]
     },
     "metadata": {},
     "output_type": "display_data"
    }
   ],
   "source": [
    "_pareto_df = bios_both_plot_df[bios_both_plot_df[\"Models\"]==\"INLP\"]\n",
    "\n",
    "image = sns.lineplot(\n",
    "            data=_pareto_df,\n",
    "            x=\"test_performance mean\",\n",
    "            y=\"test_fairness mean\",\n",
    "            hue=\"Models\",\n",
    "            markers=True,\n",
    "            style=\"Models\",\n",
    "            legend=None\n",
    "        )\n",
    "\n",
    "_xlim = image.axes.get_xlim()\n",
    "_ylim = image.axes.get_ylim()\n",
    "\n",
    "_tmp_df = fairlib.src.analysis.utils.auc_performance_fairness_tradeoff(\n",
    "    _pareto_df,\n",
    "    random_performance = 0.3,\n",
    "    # performance_threshold = 0.70, \n",
    "    # interpolation = \"constant\",\n",
    "    interpolation = \"linear\",\n",
    "    )[1]\n",
    "\n",
    "plt.fill_between(list(_tmp_df[\"test_performance mean\"])+[1], list(_tmp_df[\"test_fairness mean\"])+[1], 1, facecolor='green', alpha=0.25)\n",
    "plt.fill_between(_tmp_df[\"test_performance mean\"], _tmp_df[\"test_fairness mean\"], 0, facecolor='yellow', alpha=0.25)\n",
    "\n",
    "max_fairness = max(_pareto_df[\"test_fairness mean\"])\n",
    "max_performance = max(_pareto_df[\"test_performance mean\"])\n",
    "plt.axvline(max_performance, ls=\"--\", color='g') # vertical\n",
    "plt.axhline(max_fairness, ls=\"--\", color='g') # horizontal\n",
    "\n",
    "plt.plot(max_performance, max_fairness, \"go\")\n",
    "plt.text(max_performance, max_fairness, \"Utopia\", c=\"g\",horizontalalignment='right',verticalalignment='bottom', fontsize=12)\n",
    "\n",
    "plt.plot(1, 1, \"go\")\n",
    "plt.text(1, 1, \"(1, 1)\", c=\"g\",horizontalalignment='right',verticalalignment='bottom', fontsize=12)\n",
    "\n",
    "# plt.xlim(_xlim)\n",
    "plt.xlim((_xlim[0],1.05))\n",
    "plt.ylim((0,_ylim[1]))\n",
    "\n",
    "plt.xlabel(\"Performance\")\n",
    "plt.ylabel(\"Fairness\")\n",
    "\n",
    "plt.savefig('Bios_both_INLP_AUC_extra.pdf', format=\"pdf\", dpi=960, bbox_inches='tight')"
   ]
  },
  {
   "cell_type": "code",
   "execution_count": 21,
   "metadata": {},
   "outputs": [],
   "source": [
    "import numpy as np\n",
    "\n",
    "p = np.array([0.5, 0.8])\n",
    "f = np.array([1.0, 0.5])"
   ]
  },
  {
   "cell_type": "code",
   "execution_count": 22,
   "metadata": {},
   "outputs": [
    {
     "data": {
      "text/plain": [
       "array([0.3, 0.5])"
      ]
     },
     "execution_count": 22,
     "metadata": {},
     "output_type": "execute_result"
    }
   ],
   "source": [
    "((max(p)-p)**2 + (max(f)-f)**2)**0.5"
   ]
  },
  {
   "cell_type": "code",
   "execution_count": 23,
   "metadata": {},
   "outputs": [
    {
     "data": {
      "text/plain": [
       "array([0.50990195, 0.63245553])"
      ]
     },
     "execution_count": 23,
     "metadata": {},
     "output_type": "execute_result"
    }
   ],
   "source": [
    "((1-p)**2 + (1.1-f)**2)**0.5"
   ]
  },
  {
   "cell_type": "code",
   "execution_count": 24,
   "metadata": {},
   "outputs": [],
   "source": [
    "import math\n",
    "from fairlib.src.analysis.utils import l2norm"
   ]
  },
  {
   "cell_type": "code",
   "execution_count": 25,
   "metadata": {},
   "outputs": [
    {
     "data": {
      "text/html": [
       "<div>\n",
       "<style scoped>\n",
       "    .dataframe tbody tr th:only-of-type {\n",
       "        vertical-align: middle;\n",
       "    }\n",
       "\n",
       "    .dataframe tbody tr th {\n",
       "        vertical-align: top;\n",
       "    }\n",
       "\n",
       "    .dataframe thead th {\n",
       "        text-align: right;\n",
       "    }\n",
       "</style>\n",
       "<table border=\"1\" class=\"dataframe\">\n",
       "  <thead>\n",
       "    <tr style=\"text-align: right;\">\n",
       "      <th></th>\n",
       "      <th>candidate_radians</th>\n",
       "      <th>candidate_performance</th>\n",
       "      <th>candidate_fairness</th>\n",
       "      <th>DTO_utopia</th>\n",
       "      <th>DTO_arbitrary</th>\n",
       "      <th>DTO_delta</th>\n",
       "    </tr>\n",
       "  </thead>\n",
       "  <tbody>\n",
       "    <tr>\n",
       "      <th>0</th>\n",
       "      <td>0</td>\n",
       "      <td>0.620000</td>\n",
       "      <td>1.000000</td>\n",
       "      <td>0.2</td>\n",
       "      <td>0.380000</td>\n",
       "      <td>0.180000</td>\n",
       "    </tr>\n",
       "    <tr>\n",
       "      <th>1</th>\n",
       "      <td>30</td>\n",
       "      <td>0.646795</td>\n",
       "      <td>0.900000</td>\n",
       "      <td>0.2</td>\n",
       "      <td>0.367088</td>\n",
       "      <td>0.167088</td>\n",
       "    </tr>\n",
       "    <tr>\n",
       "      <th>2</th>\n",
       "      <td>45</td>\n",
       "      <td>0.678579</td>\n",
       "      <td>0.858579</td>\n",
       "      <td>0.2</td>\n",
       "      <td>0.351158</td>\n",
       "      <td>0.151158</td>\n",
       "    </tr>\n",
       "    <tr>\n",
       "      <th>3</th>\n",
       "      <td>60</td>\n",
       "      <td>0.720000</td>\n",
       "      <td>0.826795</td>\n",
       "      <td>0.2</td>\n",
       "      <td>0.329242</td>\n",
       "      <td>0.129242</td>\n",
       "    </tr>\n",
       "    <tr>\n",
       "      <th>4</th>\n",
       "      <td>90</td>\n",
       "      <td>0.820000</td>\n",
       "      <td>0.800000</td>\n",
       "      <td>0.2</td>\n",
       "      <td>0.269072</td>\n",
       "      <td>0.069072</td>\n",
       "    </tr>\n",
       "  </tbody>\n",
       "</table>\n",
       "</div>"
      ],
      "text/plain": [
       "   candidate_radians  candidate_performance  candidate_fairness  DTO_utopia  \\\n",
       "0                  0               0.620000            1.000000         0.2   \n",
       "1                 30               0.646795            0.900000         0.2   \n",
       "2                 45               0.678579            0.858579         0.2   \n",
       "3                 60               0.720000            0.826795         0.2   \n",
       "4                 90               0.820000            0.800000         0.2   \n",
       "\n",
       "   DTO_arbitrary  DTO_delta  \n",
       "0       0.380000   0.180000  \n",
       "1       0.367088   0.167088  \n",
       "2       0.351158   0.151158  \n",
       "3       0.329242   0.129242  \n",
       "4       0.269072   0.069072  "
      ]
     },
     "execution_count": 25,
     "metadata": {},
     "output_type": "execute_result"
    }
   ],
   "source": [
    "utopia_performance = 0.82\n",
    "utopia_fairness = 1.0\n",
    "s_DTO = 0.2\n",
    "candidate_radians = [0, 30, 45, 60, 90]\n",
    "\n",
    "fairness_distance = [s_DTO * math.sin(math.radians(i)) for i in candidate_radians]\n",
    "performance_distance = [s_DTO * math.cos(math.radians(i)) for i in candidate_radians]\n",
    "\n",
    "candidate_performance = np.array([utopia_performance - i for i in performance_distance])\n",
    "candidate_fairness = np.array([utopia_fairness - i for i in fairness_distance])\n",
    "\n",
    "# Reshape and concatnate\n",
    "performacne_metric = candidate_performance.reshape(-1,1)\n",
    "fairness_metric = candidate_fairness.reshape(-1,1)\n",
    "normalized_metric = np.concatenate([performacne_metric, fairness_metric], axis=1)\n",
    "\n",
    "utopia_optimum = np.ones_like(normalized_metric) * np.array([utopia_performance, utopia_fairness])\n",
    "arbitrary_optimum = np.ones_like(normalized_metric) * np.array([1.0, 1.0])\n",
    "\n",
    "DTO_utopia = l2norm(normalized_metric, utopia_optimum)\n",
    "DTO_arbitrary = l2norm(normalized_metric, arbitrary_optimum)\n",
    "DTO_delta = DTO_arbitrary - DTO_utopia\n",
    "\n",
    "dto_example_df = pd.DataFrame({\n",
    "    \"candidate_radians\":candidate_radians,\n",
    "    \"candidate_performance\":candidate_performance,\n",
    "    \"candidate_fairness\":candidate_fairness,\n",
    "    \"DTO_utopia\":DTO_utopia,\n",
    "    \"DTO_arbitrary\":DTO_arbitrary,\n",
    "    \"DTO_delta\":DTO_delta,\n",
    "})\n",
    "\n",
    "dto_example_df"
   ]
  },
  {
   "cell_type": "code",
   "execution_count": 26,
   "metadata": {},
   "outputs": [
    {
     "name": "stdout",
     "output_type": "stream",
     "text": [
      "\\begin{tabular}{rrrrrr}\n",
      "\\toprule\n",
      " candidate\\_radians &  candidate\\_performance &  candidate\\_fairness &  DTO\\_utopia &  DTO\\_arbitrary &  DTO\\_delta \\\\\n",
      "\\midrule\n",
      "                 0 &                   62.0 &               100.0 &        20.0 &           38.0 &       18.0 \\\\\n",
      "              3000 &                   64.7 &                90.0 &        20.0 &           36.7 &       16.7 \\\\\n",
      "              4500 &                   67.9 &                85.9 &        20.0 &           35.1 &       15.1 \\\\\n",
      "              6000 &                   72.0 &                82.7 &        20.0 &           32.9 &       12.9 \\\\\n",
      "              9000 &                   82.0 &                80.0 &        20.0 &           26.9 &        6.9 \\\\\n",
      "\\bottomrule\n",
      "\\end{tabular}\n",
      "\n"
     ]
    }
   ],
   "source": [
    "print((dto_example_df*100).round(1).to_latex(index=False))"
   ]
  },
  {
   "cell_type": "code",
   "execution_count": null,
   "metadata": {},
   "outputs": [],
   "source": []
  },
  {
   "cell_type": "code",
   "execution_count": null,
   "metadata": {},
   "outputs": [],
   "source": []
  }
 ],
 "metadata": {
  "kernelspec": {
   "display_name": "py37",
   "language": "python",
   "name": "python3"
  },
  "language_info": {
   "codemirror_mode": {
    "name": "ipython",
    "version": 3
   },
   "file_extension": ".py",
   "mimetype": "text/x-python",
   "name": "python",
   "nbconvert_exporter": "python",
   "pygments_lexer": "ipython3",
   "version": "3.7.16"
  },
  "orig_nbformat": 4,
  "vscode": {
   "interpreter": {
    "hash": "09ff4665b349c7d86d9b2fd1084304a7072e2748aee2e774f8edb87f2bf6c7eb"
   }
  }
 },
 "nbformat": 4,
 "nbformat_minor": 2
}
